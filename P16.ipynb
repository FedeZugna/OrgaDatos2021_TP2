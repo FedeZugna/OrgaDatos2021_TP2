{
 "cells": [
  {
   "cell_type": "code",
   "execution_count": 1,
   "metadata": {},
   "outputs": [],
   "source": [
    "from pyspark.sql import *\n",
    "from pyspark.sql.functions import *\n",
    "from pyspark import SparkContext\n",
    "from pyspark.sql import SQLContext\n",
    "import pandas as pd"
   ]
  },
  {
   "cell_type": "code",
   "execution_count": 2,
   "metadata": {},
   "outputs": [],
   "source": [
    "# create the Spark Session\n",
    "spark = SparkSession.builder.getOrCreate()\n",
    "\n",
    "# create the Spark Context\n",
    "sc = spark.sparkContext\n",
    "sqlContext=SQLContext(sc)"
   ]
  },
  {
   "cell_type": "markdown",
   "metadata": {},
   "source": [
    "## 10 categorías que tienen la menor cantidad de contenido anónimo publicado."
   ]
  },
  {
   "cell_type": "markdown",
   "metadata": {},
   "source": [
    "Cargo los CSV de contents y de categoryLinks como DF y luego los paso a RDD"
   ]
  },
  {
   "cell_type": "code",
   "execution_count": 3,
   "metadata": {},
   "outputs": [],
   "source": [
    "df_contents=sqlContext.read.csv('contents.csv', header=True)\n",
    "df_category=sqlContext.read.csv('categoryLinks.csv', header=True)"
   ]
  },
  {
   "cell_type": "code",
   "execution_count": 5,
   "metadata": {},
   "outputs": [],
   "source": [
    "rdd_contents=df_contents.rdd.cache()\n",
    "rdd_category=df_category.rdd.cache()"
   ]
  },
  {
   "cell_type": "markdown",
   "metadata": {},
   "source": [
    "Hago un map del RDD de category dejando la estructura id como clave y nombre de la categoria como valor"
   ]
  },
  {
   "cell_type": "code",
   "execution_count": 7,
   "metadata": {},
   "outputs": [],
   "source": [
    "rdd_category_map = rdd_category.map(lambda x: (x[0],x[1]))"
   ]
  },
  {
   "cell_type": "markdown",
   "metadata": {},
   "source": [
    "Hago un map en el RDD de contents para que me quede la estructura id como clave y las IP como valor ya que me piden todo el contenido anonimo publicado y esto lo hacen usuarios no registrados, por lo tanto que aparece su IP.\n",
    "Una vez hecho esto, hago un filter por el valor(IP) que no son None asi descarto los ID que pertenecen a contenido publicado por usuarios registrados"
   ]
  },
  {
   "cell_type": "code",
   "execution_count": 11,
   "metadata": {},
   "outputs": [],
   "source": [
    "rdd_contents_map = rdd_contents.map(lambda x: (x[1],x[8])).filter(lambda x: x[1] != None)"
   ]
  },
  {
   "cell_type": "markdown",
   "metadata": {},
   "source": [
    "Realizo el Join por ID de las categorias con los contenidos, quedandome la forma id como clave y titulo de la categoria y las ip como valores. Luego realizo un nuevo map moviendo el titulo como clave y un 1 en el valor para poder hacer el ReduceBYKey para que me sumen las repeticiones de cada categoria."
   ]
  },
  {
   "cell_type": "code",
   "execution_count": 23,
   "metadata": {},
   "outputs": [],
   "source": [
    "top10_categories = rdd_category_map.join(rdd_contents_map).map(lambda x: (x[1][0],1)).reduceByKey(lambda x,y: x+y)"
   ]
  },
  {
   "cell_type": "markdown",
   "metadata": {},
   "source": [
    "Realizo el takeOrdered 10 para que me traiga los primeros 10 registros que van a ser los de menor cantidad de publicaciones anonimas"
   ]
  },
  {
   "cell_type": "code",
   "execution_count": 24,
   "metadata": {},
   "outputs": [
    {
     "data": {
      "text/plain": [
       "[('PÃ\\xado_X', 1),\n",
       " ('Objetos_astronÃ³micos_descubiertos_por_Eleanor_F._Helin', 1),\n",
       " ('Localidades_de_Guam', 1),\n",
       " ('Teseo', 1),\n",
       " ('Reus', 1),\n",
       " ('Troya', 1),\n",
       " ('TurquÃ\\xada_en_1996', 1),\n",
       " ('Tratados_de_HungrÃ\\xada_del_siglo_XX', 1),\n",
       " ('Tratados_de_Polonia_del_siglo_XX', 1),\n",
       " ('Tratados_de_Suecia_del_siglo_XX', 1)]"
      ]
     },
     "execution_count": 24,
     "metadata": {},
     "output_type": "execute_result"
    }
   ],
   "source": [
    "top10_categories.takeOrdered(10, lambda x:x[1])"
   ]
  },
  {
   "cell_type": "code",
   "execution_count": null,
   "metadata": {},
   "outputs": [],
   "source": []
  },
  {
   "cell_type": "code",
   "execution_count": null,
   "metadata": {},
   "outputs": [],
   "source": []
  },
  {
   "cell_type": "code",
   "execution_count": 11,
   "metadata": {},
   "outputs": [],
   "source": [
    "df_contents=sqlContext.read.parquet('contents_p16.parquet')\n",
    "df_category=sqlContext.read.parquet('categoryLinks.parquet')"
   ]
  },
  {
   "cell_type": "code",
   "execution_count": 12,
   "metadata": {},
   "outputs": [],
   "source": [
    "rdd_contents=df_contents.rdd.cache()\n",
    "rdd_category=df_category.rdd.cache()"
   ]
  },
  {
   "cell_type": "code",
   "execution_count": 13,
   "metadata": {},
   "outputs": [],
   "source": [
    "rdd_category_map = rdd_category.map(lambda x: (x[0],x[1]))\n",
    "rdd_contents_map = rdd_contents.map(lambda x: (x[1],x[8])).filter(lambda x: x[1] != None)\n",
    "top10_categories = rdd_category_map.join(rdd_contents_map).map(lambda x: (x[1][0],1)).reduceByKey(lambda x,y: x+y)\n"
   ]
  },
  {
   "cell_type": "code",
   "execution_count": 16,
   "metadata": {},
   "outputs": [
    {
     "data": {
      "text/plain": [
       "[('PolÃ\\x83Â\\xadtica_de_la_RestauraciÃ\\x83Â³n_borbÃ\\x83Â³nica_en_EspaÃ\\x83Â±a',\n",
       "  1),\n",
       " ('Socialistas_de_Grecia', 1),\n",
       " ('Infantes_de_EspaÃ\\x83Â±a_del_siglo_XVIII', 1),\n",
       " ('Personas_de_la_guerra_de_sucesiÃ\\x83Â³n_austrÃ\\x83Â\\xadaca', 1),\n",
       " ('EpÃ\\x83Â³nimos_de_JosÃ\\x83Â©_Miguel_Carrera', 1),\n",
       " ('Profesores_de_HungrÃ\\x83Â\\xada', 1),\n",
       " ('QuÃ\\x83Â\\xadmicos_de_HungrÃ\\x83Â\\xada', 1),\n",
       " ('Entrenadores_de_la_UniÃ\\x83Â³_Esportiva_Lleida', 1),\n",
       " ('Prueba_de_Turing', 1),\n",
       " ('AviaciÃ\\x83Â³n_de_Corea_del_Sur', 1)]"
      ]
     },
     "execution_count": 16,
     "metadata": {},
     "output_type": "execute_result"
    }
   ],
   "source": [
    "top10_categories.takeOrdered(10, lambda x:x[1])"
   ]
  },
  {
   "cell_type": "code",
   "execution_count": 14,
   "metadata": {},
   "outputs": [
    {
     "data": {
      "text/plain": [
       "[(5, 'Wikipedia:Mantenimiento'),\n",
       " (5, 'Wikipedia:PÃ\\x83Â¡ginas_con_enlaces_mÃ\\x83Â¡gicos_de_ISBN')]"
      ]
     },
     "execution_count": 14,
     "metadata": {},
     "output_type": "execute_result"
    }
   ],
   "source": [
    "rdd_category_map.take(2)"
   ]
  },
  {
   "cell_type": "code",
   "execution_count": 15,
   "metadata": {},
   "outputs": [
    {
     "data": {
      "text/plain": [
       "[(1133346, '2806:264:3401:1891:8145:B8B8:26C8:F780'),\n",
       " (8920516, '2800:E2:1900:951:18A8:5458:910C:FA9A'),\n",
       " (1789727, '200.91.9.239'),\n",
       " (8390815, '2806:106E:1E:17A7:EDE:1AC1:6547:8B0B')]"
      ]
     },
     "execution_count": 15,
     "metadata": {},
     "output_type": "execute_result"
    }
   ],
   "source": [
    "rdd_contents_map.take(4)"
   ]
  },
  {
   "cell_type": "code",
   "execution_count": 10,
   "metadata": {},
   "outputs": [
    {
     "data": {
      "text/plain": [
       "[]"
      ]
     },
     "execution_count": 10,
     "metadata": {},
     "output_type": "execute_result"
    }
   ],
   "source": [
    "rdd_category_map.join(rdd_contents_map).take(4)"
   ]
  },
  {
   "cell_type": "code",
   "execution_count": null,
   "metadata": {},
   "outputs": [],
   "source": []
  }
 ],
 "metadata": {
  "kernelspec": {
   "display_name": "Python 3",
   "language": "python",
   "name": "python3"
  },
  "language_info": {
   "codemirror_mode": {
    "name": "ipython",
    "version": 3
   },
   "file_extension": ".py",
   "mimetype": "text/x-python",
   "name": "python",
   "nbconvert_exporter": "python",
   "pygments_lexer": "ipython3",
   "version": "3.7.6"
  }
 },
 "nbformat": 4,
 "nbformat_minor": 4
}

{
 "cells": [
  {
   "cell_type": "code",
   "execution_count": 1,
   "metadata": {},
   "outputs": [],
   "source": [
    "from pyspark.sql import *\n",
    "from pyspark.sql.functions import *\n",
    "from pyspark import SparkContext\n",
    "from pyspark.sql import SQLContext\n",
    "import pandas as pd"
   ]
  },
  {
   "cell_type": "code",
   "execution_count": 2,
   "metadata": {},
   "outputs": [],
   "source": [
    "# create the Spark Session\n",
    "spark = SparkSession.builder.getOrCreate()\n",
    "\n",
    "# create the Spark Context\n",
    "sc = spark.sparkContext\n",
    "sqlContext=SQLContext(sc)"
   ]
  },
  {
   "cell_type": "markdown",
   "metadata": {},
   "source": [
    "## 10 categorías que tienen la menor cantidad de contenido anónimo publicado."
   ]
  },
  {
   "cell_type": "markdown",
   "metadata": {},
   "source": [
    "Cargo los CSV de contents y de categoryLinks como DF y luego los paso a RDD"
   ]
  },
  {
   "cell_type": "code",
   "execution_count": 4,
   "metadata": {},
   "outputs": [],
   "source": [
    "df_contents=pd.read_csv('contents.csv', encoding='Latin-1')\n",
    "df_category=pd.read_csv('categoryLinks.csv', encoding='Latin-1')"
   ]
  },
  {
   "cell_type": "code",
   "execution_count": 5,
   "metadata": {},
   "outputs": [],
   "source": [
    "df_contents = df_contents.sample(frac=0.5)\n",
    "df_contents.to_parquet('contents_p16.parquet')\n",
    "df_category.to_parquet('categoryLinks.parquet')"
   ]
  },
  {
   "cell_type": "markdown",
   "metadata": {},
   "source": [
    "Reinicio el Kernel y levanto los archivos .parquet para liberar memoria y poder correr el ultimo Join y takeOrdered"
   ]
  },
  {
   "cell_type": "code",
   "execution_count": 3,
   "metadata": {},
   "outputs": [],
   "source": [
    "df_contents=sqlContext.read.parquet('contents_p16.parquet')\n",
    "df_category=sqlContext.read.parquet('categoryLinks.parquet')"
   ]
  },
  {
   "cell_type": "code",
   "execution_count": 4,
   "metadata": {},
   "outputs": [],
   "source": [
    "rdd_contents=df_contents.rdd.cache()\n",
    "rdd_category=df_category.rdd.cache()"
   ]
  },
  {
   "cell_type": "markdown",
   "metadata": {},
   "source": [
    "Hago un map del RDD de category dejando la estructura id como clave y nombre de la categoria como valor"
   ]
  },
  {
   "cell_type": "markdown",
   "metadata": {},
   "source": [
    "A su vez, hago un map en el RDD de contents para que me quede la estructura id como clave y las IP como valor ya que me piden todo el contenido anonimo publicado y esto lo hacen usuarios no registrados, por lo tanto que aparece su IP.\n",
    "Una vez hecho esto, hago un filter por el valor(IP) que no son None asi descarto los ID que pertenecen a contenido publicado por usuarios registrados"
   ]
  },
  {
   "cell_type": "markdown",
   "metadata": {},
   "source": [
    "Para terminar eealizo el Join por ID de las categorias con los contenidos, quedandome la forma id como clave y titulo de la categoria y las ip como valores. Luego realizo un nuevo map moviendo el titulo como clave y un 1 en el valor para poder hacer el ReduceBYKey para que me sumen las repeticiones de cada categoria."
   ]
  },
  {
   "cell_type": "code",
   "execution_count": 5,
   "metadata": {},
   "outputs": [],
   "source": [
    "rdd_category_map = rdd_category.map(lambda x: (x[0],x[1]))\n",
    "rdd_contents_map = rdd_contents.map(lambda x: (x[1],x[8])).filter(lambda x: x[1] != None)\n",
    "top10_categories = rdd_category_map.join(rdd_contents_map).map(lambda x: (x[1][0],1)).reduceByKey(lambda x,y: x+y)\n"
   ]
  },
  {
   "cell_type": "markdown",
   "metadata": {},
   "source": [
    "Realizo el takeOrdered 10 para que me traiga los primeros 10 registros que van a ser los de menor cantidad de publicaciones anonimas"
   ]
  },
  {
   "cell_type": "code",
   "execution_count": 6,
   "metadata": {},
   "outputs": [
    {
     "data": {
      "text/plain": [
       "[('Militares_de_Aguascalientes', 1),\n",
       " ('Obras_de_William_Shakespeare', 1),\n",
       " ('Localidades_del_condado_de_La_Plata', 1),\n",
       " ('Arquitectos_de_la_ciudad_de_Buenos_Aires', 1),\n",
       " ('Urbanistas_de_Argentina', 1),\n",
       " ('Organizaciones_religiosas_de_Arabia_Saudita', 1),\n",
       " ('Tipos_de_oraciÃ\\x83Â³n', 1),\n",
       " ('Historia_de_la_agricultura_en_Venezuela', 1),\n",
       " ('Venezuela_en_1834', 1),\n",
       " ('Obras_de_1966', 1)]"
      ]
     },
     "execution_count": 6,
     "metadata": {},
     "output_type": "execute_result"
    }
   ],
   "source": [
    "top10_categories.takeOrdered(10, lambda x:x[1])"
   ]
  },
  {
   "cell_type": "code",
   "execution_count": null,
   "metadata": {},
   "outputs": [],
   "source": []
  },
  {
   "cell_type": "code",
   "execution_count": null,
   "metadata": {},
   "outputs": [],
   "source": []
  },
  {
   "cell_type": "code",
   "execution_count": null,
   "metadata": {},
   "outputs": [],
   "source": []
  }
 ],
 "metadata": {
  "kernelspec": {
   "display_name": "Python 3",
   "language": "python",
   "name": "python3"
  },
  "language_info": {
   "codemirror_mode": {
    "name": "ipython",
    "version": 3
   },
   "file_extension": ".py",
   "mimetype": "text/x-python",
   "name": "python",
   "nbconvert_exporter": "python",
   "pygments_lexer": "ipython3",
   "version": "3.7.6"
  }
 },
 "nbformat": 4,
 "nbformat_minor": 4
}

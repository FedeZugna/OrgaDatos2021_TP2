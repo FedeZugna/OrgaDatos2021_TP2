{
 "cells": [
  {
   "cell_type": "code",
   "execution_count": 1,
   "metadata": {},
   "outputs": [],
   "source": [
    "from pyspark.sql import *\n",
    "from pyspark.sql.functions import *\n",
    "from pyspark import SparkContext\n",
    "from pyspark.sql import SQLContext\n",
    "import pandas as pd"
   ]
  },
  {
   "cell_type": "code",
   "execution_count": 2,
   "metadata": {},
   "outputs": [],
   "source": [
    "# create the Spark Session\n",
    "spark = SparkSession.builder.getOrCreate()\n",
    "\n",
    "# create the Spark Context\n",
    "sc = spark.sparkContext\n",
    "sqlContext=SQLContext(sc)"
   ]
  },
  {
   "cell_type": "markdown",
   "metadata": {},
   "source": [
    "## Listado en orden de importancia (del más hablado al menos hablado) de los idiomas que manejan aquellos usuarios que hablan por lo menos tres idiomas"
   ]
  },
  {
   "cell_type": "markdown",
   "metadata": {},
   "source": [
    "Cargo el CSV y antes de pasarlo a RDD cambio todas las palabras de la columna babel_lang las paso a mayuscula por si hay algun idioma que están escritos en distintas letras que no se diferencien"
   ]
  },
  {
   "cell_type": "code",
   "execution_count": 3,
   "metadata": {},
   "outputs": [],
   "source": [
    "df_languages=sqlContext.read.csv('languages.csv', header=True)\n",
    "df_languages = df_languages.select(\"*\", upper(col('babel_lang')))"
   ]
  },
  {
   "cell_type": "code",
   "execution_count": 4,
   "metadata": {},
   "outputs": [],
   "source": [
    "rdd_languages = df_languages.rdd"
   ]
  },
  {
   "cell_type": "markdown",
   "metadata": {},
   "source": [
    "Como me pide el listado de importancia, del mas hablado al menos hablado, lo primero que hago es hacer un map de el user_id y el idioma en mayus que creamos en la primer linea como clave y como valor el numero equivalente al idioma hablado, como hay casos en donde el idioma es nativo y se lo represena con un 'N', ese caracter fue reemplazado por el numero 6.\n",
    "Luego realizo un filtro por todos los usuarios que hablan algun idioma, o sea que su nivel es mayor a cero como se acordo con Damian via Slack. "
   ]
  },
  {
   "cell_type": "code",
   "execution_count": 5,
   "metadata": {},
   "outputs": [],
   "source": [
    "rdd_user = rdd_languages.map(lambda x: ((x[0],x[3]),'6' if x[2]=='N' else x[2])).filter(lambda x: x[1] > '0').cache()"
   ]
  },
  {
   "cell_type": "markdown",
   "metadata": {},
   "source": [
    "Ahora analizo que usuarios hablan por lo menos tres idiomas."
   ]
  },
  {
   "cell_type": "code",
   "execution_count": 6,
   "metadata": {},
   "outputs": [],
   "source": [
    "rdd_user_3 = rdd_user.map(lambda x: (x[0][0],1)).reduceByKey(lambda x,y: x+y).filter(lambda x: x[1]>3)"
   ]
  },
  {
   "cell_type": "markdown",
   "metadata": {},
   "source": [
    "Ahora que tengo a todos los usuarios que hablan tres idiomas, voy a armarme un RDD con los ID de los usuarios y con los idiomas que hablan para poder hacer un join"
   ]
  },
  {
   "cell_type": "code",
   "execution_count": 7,
   "metadata": {},
   "outputs": [],
   "source": [
    "rdd_user_lan = rdd_user.map(lambda x: (x[0][0],x[0][1]))"
   ]
  },
  {
   "cell_type": "markdown",
   "metadata": {},
   "source": [
    "Hago el Join por ID de usuario que me va a quedar como clave y como valor me queda el idioma y el numero de sumatoria de los idioma que hablan cada user"
   ]
  },
  {
   "cell_type": "code",
   "execution_count": 8,
   "metadata": {},
   "outputs": [],
   "source": [
    "rdd_join=rdd_user_lan.join(rdd_user_3)"
   ]
  },
  {
   "cell_type": "markdown",
   "metadata": {},
   "source": [
    "Luego del Join, vuelvo a realizar un map con el idioma y un valor 1 para poder hacer el reduceByKey y sumar la cantidad de veces que está cada idioma en el RDD. Luego lo ordeno de forma descendente y hago un glom para juntar todo en una lista"
   ]
  },
  {
   "cell_type": "code",
   "execution_count": 9,
   "metadata": {},
   "outputs": [],
   "source": [
    "rdd_list = rdd_join.map(lambda x: (x[1][0],1)).reduceByKey(lambda x,y: x+y).sortBy(lambda x: -x[1]).glom()"
   ]
  },
  {
   "cell_type": "markdown",
   "metadata": {},
   "source": [
    "Hago el collect de la lista para ver en orden de importancia los idiomas mas hablados por los usuarios que hablan mas de tres idiomas"
   ]
  },
  {
   "cell_type": "code",
   "execution_count": 10,
   "metadata": {},
   "outputs": [
    {
     "data": {
      "text/plain": [
       "[[('EN', 3518),\n",
       "  ('ES', 3452),\n",
       "  ('FR', 2412),\n",
       "  ('IT', 1435),\n",
       "  ('DE', 1273),\n",
       "  ('PT', 1246),\n",
       "  ('CA', 923),\n",
       "  ('LA', 407),\n",
       "  ('GL', 383),\n",
       "  ('RU', 341),\n",
       "  ('JA', 320),\n",
       "  ('EO', 213),\n",
       "  ('ZH', 156),\n",
       "  ('EU', 148),\n",
       "  ('AR', 143),\n",
       "  ('NL', 120),\n",
       "  ('AST', 120),\n",
       "  ('PL', 111),\n",
       "  ('SV', 97),\n",
       "  ('EL', 94),\n",
       "  ('GRC', 68),\n",
       "  ('HE', 65),\n",
       "  ('RO', 61),\n",
       "  ('UK', 55),\n",
       "  ('AN', 51),\n",
       "  ('KO', 45),\n",
       "  ('NO', 43),\n",
       "  ('OC', 43),\n",
       "  ('LAD', 39),\n",
       "  ('CS', 38),\n",
       "  ('FI', 37),\n",
       "  ('DA', 36),\n",
       "  ('HR', 36),\n",
       "  ('NAH', 35),\n",
       "  ('SR', 30),\n",
       "  ('QU', 30),\n",
       "  ('TR', 28),\n",
       "  ('HU', 28),\n",
       "  ('BG', 28),\n",
       "  ('GN', 26),\n",
       "  ('BE', 24),\n",
       "  ('SK', 23),\n",
       "  ('FA', 21),\n",
       "  ('IA', 20),\n",
       "  ('SL', 19),\n",
       "  ('GA', 18),\n",
       "  ('EXT', 17),\n",
       "  ('ID', 17),\n",
       "  ('HI', 15),\n",
       "  ('MK', 15),\n",
       "  ('ET', 14),\n",
       "  ('LT', 14),\n",
       "  ('PT-BR', 14),\n",
       "  ('BS', 13),\n",
       "  ('IS', 13),\n",
       "  ('SA', 12),\n",
       "  ('SH', 12),\n",
       "  ('ARN', 12),\n",
       "  ('QYA', 12),\n",
       "  ('IO', 11),\n",
       "  ('SIMPLE', 11),\n",
       "  ('NN', 11),\n",
       "  ('TH', 11),\n",
       "  ('AF', 10),\n",
       "  ('VEC', 10),\n",
       "  ('GSW', 10),\n",
       "  ('SC', 9),\n",
       "  ('SCN', 9),\n",
       "  ('NAP', 8),\n",
       "  ('LMO', 8),\n",
       "  ('YI', 8),\n",
       "  ('LV', 8),\n",
       "  ('SW', 8),\n",
       "  ('SQ', 8),\n",
       "  ('RM', 8),\n",
       "  ('TL', 8),\n",
       "  ('YUE', 8),\n",
       "  ('CO', 7),\n",
       "  ('HY', 7),\n",
       "  ('PMS', 7),\n",
       "  ('VI', 7),\n",
       "  ('NDS', 7),\n",
       "  ('MS', 7),\n",
       "  ('SCO', 6),\n",
       "  ('CY', 6),\n",
       "  ('MWL', 6),\n",
       "  ('FRP', 6),\n",
       "  ('AZ', 6),\n",
       "  ('EN-GB', 6),\n",
       "  ('SSP', 5),\n",
       "  ('UR', 5),\n",
       "  ('JV', 5),\n",
       "  ('KA', 5),\n",
       "  ('SJN', 5),\n",
       "  ('BAR', 5),\n",
       "  ('HT', 4),\n",
       "  ('ANG', 4),\n",
       "  ('AY', 4),\n",
       "  ('KK', 4),\n",
       "  ('UZ', 4),\n",
       "  ('LB', 4),\n",
       "  ('ARC', 3),\n",
       "  ('MG', 3),\n",
       "  ('IE', 3),\n",
       "  ('TA', 3),\n",
       "  ('CEB', 3),\n",
       "  ('SU', 3),\n",
       "  ('HSB', 3),\n",
       "  ('KY', 3),\n",
       "  ('LFN', 3),\n",
       "  ('SGS', 3),\n",
       "  ('NB', 3),\n",
       "  ('ALN', 2),\n",
       "  ('FUR', 2),\n",
       "  ('QWH', 2),\n",
       "  ('FO', 2),\n",
       "  ('LO', 2),\n",
       "  ('CV', 2),\n",
       "  ('GD', 2),\n",
       "  ('LZH', 2),\n",
       "  ('MR', 2),\n",
       "  ('EN-CA', 2),\n",
       "  ('SM', 2),\n",
       "  ('RUE', 2),\n",
       "  ('ZH-HANS-CN', 2),\n",
       "  ('AM', 2),\n",
       "  ('WA', 2),\n",
       "  ('LIJ', 2),\n",
       "  ('SDC', 2),\n",
       "  ('KN', 2),\n",
       "  ('ASE', 2),\n",
       "  ('YUA', 2),\n",
       "  ('MT', 2),\n",
       "  ('NAN', 2),\n",
       "  ('FY', 2),\n",
       "  ('TE', 2),\n",
       "  ('DE-AT', 2),\n",
       "  ('JBO', 2)],\n",
       " [('ACF', 1),\n",
       "  ('RUP', 1),\n",
       "  ('NRM', 1),\n",
       "  ('CNT', 1),\n",
       "  ('PBB', 1),\n",
       "  ('AVK', 1),\n",
       "  ('TZO', 1),\n",
       "  ('FIL', 1),\n",
       "  ('KBP', 1),\n",
       "  ('MAP-BMS', 1),\n",
       "  ('MIN', 1),\n",
       "  ('PAG', 1),\n",
       "  ('SI', 1),\n",
       "  ('MUR', 1),\n",
       "  ('CAS', 1),\n",
       "  ('SDN', 1),\n",
       "  ('CSC', 1),\n",
       "  ('NLA', 1),\n",
       "  ('WUU', 1),\n",
       "  ('GOM-LATN', 1),\n",
       "  ('LN', 1),\n",
       "  ('AGR', 1),\n",
       "  ('AKK', 1),\n",
       "  ('MIQ', 1),\n",
       "  ('PRL', 1),\n",
       "  ('SHP', 1),\n",
       "  ('AZB', 1),\n",
       "  ('CKB', 1),\n",
       "  ('BN', 1),\n",
       "  ('NIA', 1),\n",
       "  ('KRL', 1),\n",
       "  ('MO', 1),\n",
       "  ('BR', 1),\n",
       "  ('LI', 1),\n",
       "  ('HAW', 1),\n",
       "  ('VSV', 1),\n",
       "  ('CAK', 1),\n",
       "  ('CHR', 1),\n",
       "  ('KL', 1),\n",
       "  ('KW', 1),\n",
       "  ('LTG', 1),\n",
       "  ('ZEA', 1),\n",
       "  ('ZH-HANS', 1),\n",
       "  ('ZH-HANT', 1),\n",
       "  ('ZH-HANT-HK', 1),\n",
       "  ('ZH-HANT-TW', 1),\n",
       "  ('KEA', 1),\n",
       "  ('HCH', 1),\n",
       "  ('OJ', 1),\n",
       "  ('LZZ', 1),\n",
       "  ('TI', 1),\n",
       "  ('CU', 1),\n",
       "  ('NON', 1),\n",
       "  ('NOV', 1),\n",
       "  ('PCD', 1),\n",
       "  ('RGN', 1),\n",
       "  ('TG', 1),\n",
       "  ('MNW', 1),\n",
       "  ('MY', 1),\n",
       "  ('SHN', 1),\n",
       "  ('PAP', 1),\n",
       "  ('MBR', 1),\n",
       "  ('TZH', 1),\n",
       "  ('ZAP', 1),\n",
       "  ('BCL', 1),\n",
       "  ('BEW', 1),\n",
       "  ('BJN', 1),\n",
       "  ('CBK', 1),\n",
       "  ('ILO', 1),\n",
       "  ('PAM', 1),\n",
       "  ('WAR', 1),\n",
       "  ('QUB', 1),\n",
       "  ('KU', 1),\n",
       "  ('ISE', 1),\n",
       "  ('RW', 1),\n",
       "  ('LEZ', 1),\n",
       "  ('UGY', 1),\n",
       "  ('FAX', 1),\n",
       "  ('TMR', 1),\n",
       "  ('GAN', 1),\n",
       "  ('AB', 1),\n",
       "  ('GUC', 1),\n",
       "  ('EGY', 1),\n",
       "  ('PPL', 1),\n",
       "  ('ARY', 1),\n",
       "  ('MAD', 1),\n",
       "  ('CSB', 1),\n",
       "  ('EML', 1),\n",
       "  ('SE', 1),\n",
       "  ('ZZA', 1),\n",
       "  ('TK', 1),\n",
       "  ('NV', 1),\n",
       "  ('PNB', 1),\n",
       "  ('PFL', 1),\n",
       "  ('SDH', 1),\n",
       "  ('KM', 1),\n",
       "  ('XCW', 1),\n",
       "  ('TPI', 1),\n",
       "  ('MFS', 1)]]"
      ]
     },
     "execution_count": 10,
     "metadata": {},
     "output_type": "execute_result"
    }
   ],
   "source": [
    "rdd_list.collect()"
   ]
  },
  {
   "cell_type": "code",
   "execution_count": null,
   "metadata": {},
   "outputs": [],
   "source": []
  },
  {
   "cell_type": "code",
   "execution_count": null,
   "metadata": {},
   "outputs": [],
   "source": []
  }
 ],
 "metadata": {
  "kernelspec": {
   "display_name": "Python 3",
   "language": "python",
   "name": "python3"
  },
  "language_info": {
   "codemirror_mode": {
    "name": "ipython",
    "version": 3
   },
   "file_extension": ".py",
   "mimetype": "text/x-python",
   "name": "python",
   "nbconvert_exporter": "python",
   "pygments_lexer": "ipython3",
   "version": "3.7.6"
  }
 },
 "nbformat": 4,
 "nbformat_minor": 4
}

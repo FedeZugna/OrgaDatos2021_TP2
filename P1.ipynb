{
 "cells": [
  {
   "cell_type": "code",
   "execution_count": 6,
   "metadata": {},
   "outputs": [],
   "source": [
    "from pyspark.sql import *\n",
    "from pyspark.sql.functions import *\n",
    "from pyspark import SparkContext\n",
    "from pyspark.sql import SQLContext\n",
    "import pandas as pd\n",
    "import warnings\n",
    "warnings.filterwarnings('ignore')"
   ]
  },
  {
   "cell_type": "code",
   "execution_count": 3,
   "metadata": {},
   "outputs": [],
   "source": [
    "# create the Spark Session\n",
    "spark = SparkSession.builder.getOrCreate()\n",
    "\n",
    "# create the Spark Context\n",
    "sc = spark.sparkContext\n",
    "sqlContext=SQLContext(sc)"
   ]
  },
  {
   "cell_type": "markdown",
   "metadata": {},
   "source": [
    "## Considerando los logs de acciones realizadas sobre ítems, mostrar el top 10 de ids de ítems que fueron afectados por mayor cantidad usuarios distintos"
   ]
  },
  {
   "cell_type": "markdown",
   "metadata": {},
   "source": [
    "cargo el DF de contents y de logs y los paso a tipo parquet para poder levantarlos como rdd"
   ]
  },
  {
   "cell_type": "code",
   "execution_count": 4,
   "metadata": {},
   "outputs": [],
   "source": [
    "df_contents = pd.read_csv('contents.csv', encoding='Latin-1')\n",
    "df_contents.to_parquet('contents.parquet')\n",
    "df_contents = sqlContext.read.parquet('contents.parquet')\n",
    "rdd_contents = df_contents.rdd.cache()"
   ]
  },
  {
   "cell_type": "code",
   "execution_count": 7,
   "metadata": {},
   "outputs": [],
   "source": [
    "df_logs = pd.read_csv('logs.csv', encoding='Latin-1')\n",
    "df_logs.to_parquet('logs.parquet')\n",
    "df_logs = sqlContext.read.parquet('logs.parquet')\n",
    "rdd_logs = df_logs.rdd.cache()"
   ]
  },
  {
   "cell_type": "markdown",
   "metadata": {},
   "source": [
    "Realizo un map sobre el rdd de logs para quedarme con el titulo y el usuario como clave y un 1 como valor. Luego hago un filter para eliminar los None de los usuarios y poder quedarme solo con los registrados, para luego hacer un nuevo map para quedarme con la forma titulo como clave y el 1 como valor."
   ]
  },
  {
   "cell_type": "code",
   "execution_count": 8,
   "metadata": {},
   "outputs": [],
   "source": [
    "rdd_logs_map = rdd_logs.map(lambda x: ((x[8],x[2]),1)).filter(lambda x: x[0][1] != None).map(lambda x: (x[0][0],x[1]))"
   ]
  },
  {
   "cell_type": "markdown",
   "metadata": {},
   "source": [
    "Hago un reduceByKey para que me queden los titulos y la cantidad de veces que aparecen. Luego un take para ver la estructura"
   ]
  },
  {
   "cell_type": "code",
   "execution_count": 9,
   "metadata": {},
   "outputs": [],
   "source": [
    "rdd_logs_reduce = rdd_logs_map.reduceByKey(lambda x,y: x+y).cache()"
   ]
  },
  {
   "cell_type": "code",
   "execution_count": 10,
   "metadata": {},
   "outputs": [
    {
     "data": {
      "text/plain": [
       "[('Ueda', 1),\n",
       " ('CategorÃ\\xada:One Piece', 1),\n",
       " ('Curvas de bezier', 3),\n",
       " ('Archivo:Nazca06.jpg', 3),\n",
       " ('Angra', 1),\n",
       " ('Shane MacGowan', 1),\n",
       " ('TIA-568B', 1),\n",
       " ('Archivo:Tucuman1.png', 1),\n",
       " ('Usuario:148.202.164.58', 1),\n",
       " ('Plantilla:ONG', 1)]"
      ]
     },
     "execution_count": 10,
     "metadata": {},
     "output_type": "execute_result"
    }
   ],
   "source": [
    "rdd_logs_reduce.take(10)"
   ]
  },
  {
   "cell_type": "markdown",
   "metadata": {},
   "source": [
    "Hago un map con el rdd de contenido para quedarme con la forma titulo y id como clave y un 1 como valor."
   ]
  },
  {
   "cell_type": "code",
   "execution_count": 11,
   "metadata": {},
   "outputs": [],
   "source": [
    "rdd_contents_map = rdd_contents.map(lambda x: ((x[0],x[1]),1))"
   ]
  },
  {
   "cell_type": "markdown",
   "metadata": {},
   "source": [
    "Realizo un reduceByKey por clve y id para que me quede solo una repetición del titulo con su id y no me queden registros duplicados, y luego hago un map para que me quede de la forma titulo como calve y el id como valor."
   ]
  },
  {
   "cell_type": "code",
   "execution_count": 12,
   "metadata": {},
   "outputs": [],
   "source": [
    "rdd_contents_reduce = rdd_contents_map.reduceByKey(lambda x,y: x+y).map(lambda x: (x[0][0],x[0][1])).cache()"
   ]
  },
  {
   "cell_type": "markdown",
   "metadata": {},
   "source": [
    "Realizo el join entre los rdd de contenido y de logs usando titulos como clave"
   ]
  },
  {
   "cell_type": "code",
   "execution_count": 13,
   "metadata": {},
   "outputs": [],
   "source": [
    "rdd_join = rdd_contents_reduce.join(rdd_logs_reduce)"
   ]
  },
  {
   "cell_type": "markdown",
   "metadata": {},
   "source": [
    "Luego del join, realizo un map para que me quede de la forma pedida en el enunciado: id del titulo y las repeticiones"
   ]
  },
  {
   "cell_type": "code",
   "execution_count": 14,
   "metadata": {},
   "outputs": [],
   "source": [
    "rdd_join_map = rdd_join.map(lambda x: (x[1][0],x[1][1])).reduceByKey(lambda x,y: x+y)\n"
   ]
  },
  {
   "cell_type": "markdown",
   "metadata": {},
   "source": [
    "verifico la estructura con un take"
   ]
  },
  {
   "cell_type": "code",
   "execution_count": 15,
   "metadata": {},
   "outputs": [
    {
     "data": {
      "text/plain": [
       "[(4435920, 1), (8730900, 1)]"
      ]
     },
     "execution_count": 15,
     "metadata": {},
     "output_type": "execute_result"
    }
   ],
   "source": [
    "rdd_join_map.take(2)"
   ]
  },
  {
   "cell_type": "markdown",
   "metadata": {},
   "source": [
    "Ahora si, busco la respuesta final haciendo un takeOrdered de los 10 id con mas repeticiones"
   ]
  },
  {
   "cell_type": "code",
   "execution_count": 17,
   "metadata": {},
   "outputs": [
    {
     "data": {
      "text/plain": [
       "[(2054827, 982),\n",
       " (1292078, 982),\n",
       " (241067, 982),\n",
       " (1007123, 982),\n",
       " (2271189, 521),\n",
       " (19013, 343),\n",
       " (951915, 324),\n",
       " (314958, 305),\n",
       " (4074354, 159),\n",
       " (208803, 159)]"
      ]
     },
     "execution_count": 17,
     "metadata": {},
     "output_type": "execute_result"
    }
   ],
   "source": [
    "rdd_join_map.takeOrdered(10, lambda x: -x[1])"
   ]
  },
  {
   "cell_type": "code",
   "execution_count": null,
   "metadata": {},
   "outputs": [],
   "source": []
  },
  {
   "cell_type": "code",
   "execution_count": null,
   "metadata": {},
   "outputs": [],
   "source": []
  },
  {
   "cell_type": "code",
   "execution_count": null,
   "metadata": {},
   "outputs": [],
   "source": []
  },
  {
   "cell_type": "code",
   "execution_count": null,
   "metadata": {},
   "outputs": [],
   "source": []
  },
  {
   "cell_type": "code",
   "execution_count": null,
   "metadata": {},
   "outputs": [],
   "source": []
  },
  {
   "cell_type": "code",
   "execution_count": null,
   "metadata": {},
   "outputs": [],
   "source": []
  },
  {
   "cell_type": "code",
   "execution_count": null,
   "metadata": {},
   "outputs": [],
   "source": []
  },
  {
   "cell_type": "code",
   "execution_count": null,
   "metadata": {},
   "outputs": [],
   "source": []
  },
  {
   "cell_type": "code",
   "execution_count": null,
   "metadata": {},
   "outputs": [],
   "source": []
  },
  {
   "cell_type": "code",
   "execution_count": null,
   "metadata": {},
   "outputs": [],
   "source": []
  }
 ],
 "metadata": {
  "kernelspec": {
   "display_name": "Python 3",
   "language": "python",
   "name": "python3"
  },
  "language_info": {
   "codemirror_mode": {
    "name": "ipython",
    "version": 3
   },
   "file_extension": ".py",
   "mimetype": "text/x-python",
   "name": "python",
   "nbconvert_exporter": "python",
   "pygments_lexer": "ipython3",
   "version": "3.7.6"
  }
 },
 "nbformat": 4,
 "nbformat_minor": 4
}

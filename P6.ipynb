{
 "cells": [
  {
   "cell_type": "code",
   "execution_count": 1,
   "metadata": {},
   "outputs": [],
   "source": [
    "from pyspark.sql import *\n",
    "from pyspark.sql.functions import *\n",
    "from pyspark import SparkContext\n",
    "from pyspark.sql import SQLContext\n",
    "import pandas as pd\n",
    "import warnings\n",
    "warnings.filterwarnings('ignore')"
   ]
  },
  {
   "cell_type": "code",
   "execution_count": 2,
   "metadata": {},
   "outputs": [],
   "source": [
    "# create the Spark Session\n",
    "spark = SparkSession.builder.getOrCreate()\n",
    "\n",
    "# create the Spark Context\n",
    "sc = spark.sparkContext\n",
    "sqlContext=SQLContext(sc)"
   ]
  },
  {
   "cell_type": "markdown",
   "metadata": {},
   "source": [
    "### Considerando el pagelink_sample.csv, usando una representación de grafos realizar una función genérica que nos permita calcular los contenidos que se encuentran a un grado de separación de cualquier identificador de contenido de la wikipedia. Mostrar el funcionamiento de la implementación con algún contenido incluido en el set de datos"
   ]
  },
  {
   "cell_type": "markdown",
   "metadata": {},
   "source": [
    "Cargo solo las columnas necesarias del CSV pagelinks_sample y lo cargo con pandas a un DF"
   ]
  },
  {
   "cell_type": "code",
   "execution_count": null,
   "metadata": {},
   "outputs": [],
   "source": [
    "columns_pagelinks_1=['pl_from','pl_title']\n",
    "df_pagelinks = pd.read_csv('pagelinks_sample.csv',usecols=columns_pagelinks_1,encoding='Latin-1')"
   ]
  },
  {
   "cell_type": "code",
   "execution_count": null,
   "metadata": {},
   "outputs": [],
   "source": [
    "df_pagelinks"
   ]
  },
  {
   "cell_type": "markdown",
   "metadata": {},
   "source": [
    "Cargo por pandas el DF de contents y paso los titulos a una lista y filtro los pagelinks que estan en el DF solo si están en la lista de titulos para reducir su tamaño"
   ]
  },
  {
   "cell_type": "code",
   "execution_count": 5,
   "metadata": {},
   "outputs": [],
   "source": [
    "df_contents = pd.read_csv('contents.csv',encoding='Latin-1')"
   ]
  },
  {
   "cell_type": "code",
   "execution_count": 6,
   "metadata": {},
   "outputs": [],
   "source": [
    "title_list = df_contents['title'].tolist()"
   ]
  },
  {
   "cell_type": "code",
   "execution_count": 7,
   "metadata": {},
   "outputs": [],
   "source": [
    "df_pagelinks_filter = df_pagelinks[df_pagelinks.pl_title.isin(title_list)]"
   ]
  },
  {
   "cell_type": "code",
   "execution_count": 8,
   "metadata": {},
   "outputs": [
    {
     "data": {
      "text/html": [
       "<div>\n",
       "<style scoped>\n",
       "    .dataframe tbody tr th:only-of-type {\n",
       "        vertical-align: middle;\n",
       "    }\n",
       "\n",
       "    .dataframe tbody tr th {\n",
       "        vertical-align: top;\n",
       "    }\n",
       "\n",
       "    .dataframe thead th {\n",
       "        text-align: right;\n",
       "    }\n",
       "</style>\n",
       "<table border=\"1\" class=\"dataframe\">\n",
       "  <thead>\n",
       "    <tr style=\"text-align: right;\">\n",
       "      <th></th>\n",
       "      <th>pl_from</th>\n",
       "      <th>pl_title</th>\n",
       "    </tr>\n",
       "  </thead>\n",
       "  <tbody>\n",
       "    <tr>\n",
       "      <th>2</th>\n",
       "      <td>6418187</td>\n",
       "      <td>Insecta</td>\n",
       "    </tr>\n",
       "    <tr>\n",
       "      <th>8</th>\n",
       "      <td>6571966</td>\n",
       "      <td>IMDb</td>\n",
       "    </tr>\n",
       "    <tr>\n",
       "      <th>12</th>\n",
       "      <td>5461523</td>\n",
       "      <td>Vandalismo</td>\n",
       "    </tr>\n",
       "    <tr>\n",
       "      <th>13</th>\n",
       "      <td>1098340</td>\n",
       "      <td>Wikidata</td>\n",
       "    </tr>\n",
       "    <tr>\n",
       "      <th>16</th>\n",
       "      <td>6224910</td>\n",
       "      <td>Referencias</td>\n",
       "    </tr>\n",
       "    <tr>\n",
       "      <th>...</th>\n",
       "      <td>...</td>\n",
       "      <td>...</td>\n",
       "    </tr>\n",
       "    <tr>\n",
       "      <th>79999986</th>\n",
       "      <td>89815</td>\n",
       "      <td>Usuarios</td>\n",
       "    </tr>\n",
       "    <tr>\n",
       "      <th>79999988</th>\n",
       "      <td>823826</td>\n",
       "      <td>Phylloderma</td>\n",
       "    </tr>\n",
       "    <tr>\n",
       "      <th>79999991</th>\n",
       "      <td>1339218</td>\n",
       "      <td>1980</td>\n",
       "    </tr>\n",
       "    <tr>\n",
       "      <th>79999993</th>\n",
       "      <td>5156930</td>\n",
       "      <td>1106</td>\n",
       "    </tr>\n",
       "    <tr>\n",
       "      <th>79999997</th>\n",
       "      <td>8618148</td>\n",
       "      <td>Wikidata</td>\n",
       "    </tr>\n",
       "  </tbody>\n",
       "</table>\n",
       "<p>20572932 rows × 2 columns</p>\n",
       "</div>"
      ],
      "text/plain": [
       "          pl_from     pl_title\n",
       "2         6418187      Insecta\n",
       "8         6571966         IMDb\n",
       "12        5461523   Vandalismo\n",
       "13        1098340     Wikidata\n",
       "16        6224910  Referencias\n",
       "...           ...          ...\n",
       "79999986    89815     Usuarios\n",
       "79999988   823826  Phylloderma\n",
       "79999991  1339218         1980\n",
       "79999993  5156930         1106\n",
       "79999997  8618148     Wikidata\n",
       "\n",
       "[20572932 rows x 2 columns]"
      ]
     },
     "execution_count": 8,
     "metadata": {},
     "output_type": "execute_result"
    }
   ],
   "source": [
    "df_pagelinks_filter"
   ]
  },
  {
   "cell_type": "markdown",
   "metadata": {},
   "source": [
    "Se samplea el DF con frac=0.05 como se hablo con Gian en Slack por los problems de performance que tiene mi PC al terminar de ejecutar el final del ejercicio por lo grande que es el archivo"
   ]
  },
  {
   "cell_type": "code",
   "execution_count": 9,
   "metadata": {},
   "outputs": [],
   "source": [
    "df_pagelinks_filter = df_pagelinks_filter.sample(frac=0.05)\n",
    "df_pagelinks_filter.to_parquet('pagelinks.parquet')\n"
   ]
  },
  {
   "cell_type": "markdown",
   "metadata": {},
   "source": [
    "Una vez creado el archivo .parquet, se reinicia el KERNEL"
   ]
  },
  {
   "cell_type": "markdown",
   "metadata": {},
   "source": [
    "#### NOTA:\n",
    "se vuelve a cargar el df contents porque se reinició el Kernel y para realizarle un sampleo para poder terminar con el ejercicio por los problemas de performance quetiene mi PC al momento de querer ejecutar los take luego del JOIN para verificar que todo vaya bien. Se guarda en un nuevo archivo .parquet"
   ]
  },
  {
   "cell_type": "code",
   "execution_count": 3,
   "metadata": {},
   "outputs": [],
   "source": [
    "df_contents = pd.read_csv('contents.csv',encoding='Latin-1')\n",
    "df_contents = df_contents.sample(frac=0.1)\n",
    "df_contents.to_parquet('contents_filtred')"
   ]
  },
  {
   "cell_type": "code",
   "execution_count": 5,
   "metadata": {},
   "outputs": [],
   "source": [
    "df_pagelinks_filter_p = sqlContext.read.parquet('pagelinks.parquet')\n",
    "rdd_pagelinks = df_pagelinks_filter_p.rdd.cache()\n",
    "df_contents = sqlContext.read.parquet('contents_filtred.parquet')\n",
    "rdd_contents = df_contents.rdd.cache()"
   ]
  },
  {
   "cell_type": "markdown",
   "metadata": {},
   "source": [
    "Se eliminan los DF para liberar memoria"
   ]
  },
  {
   "cell_type": "code",
   "execution_count": 6,
   "metadata": {},
   "outputs": [],
   "source": [
    "del [[df_contents, df_pagelinks_filter_p]]"
   ]
  },
  {
   "cell_type": "code",
   "execution_count": 7,
   "metadata": {},
   "outputs": [
    {
     "data": {
      "text/plain": [
       "1028647"
      ]
     },
     "execution_count": 7,
     "metadata": {},
     "output_type": "execute_result"
    }
   ],
   "source": [
    "rdd_pagelinks.count()"
   ]
  },
  {
   "cell_type": "markdown",
   "metadata": {},
   "source": [
    "Hago un map de los contenidos de la forma titulo como clave y id como valor"
   ]
  },
  {
   "cell_type": "code",
   "execution_count": 8,
   "metadata": {},
   "outputs": [],
   "source": [
    "rdd_contents_map = rdd_contents.map(lambda x: (x[0],x[1]))"
   ]
  },
  {
   "cell_type": "code",
   "execution_count": 9,
   "metadata": {},
   "outputs": [
    {
     "data": {
      "text/plain": [
       "[('Bulnes (subte de Buenos Aires)', 467496),\n",
       " ('Glycine sarmentosa', 6877663),\n",
       " ('Ibn Bassal', 4186592),\n",
       " ('Partido Constitucionalista', 4692719),\n",
       " ('Al Shamal', 3683654),\n",
       " ('CategorÃ\\xada:Traductores del Reino Unido', 1359497),\n",
       " ('Sabugalita', 5314907),\n",
       " ('Eichmann en JerusalÃ©n', 5150037),\n",
       " ('Crisis econÃ³mica de Venezuela de 2009-2010', 7850220),\n",
       " ('Loto (arbol)', 5763209)]"
      ]
     },
     "execution_count": 9,
     "metadata": {},
     "output_type": "execute_result"
    }
   ],
   "source": [
    "rdd_contents_map.take(10)"
   ]
  },
  {
   "cell_type": "markdown",
   "metadata": {},
   "source": [
    "Hago un map con el RDD de pagelinks de la forma titulo del contenido hacia donde va el link como clave y el id de partida como clave. Esto es para poder hacer un Join sobre la clave titulo yque luego me queden como valores el id de salida y el id de llegada que lo traigo del RDD de contenidos"
   ]
  },
  {
   "cell_type": "code",
   "execution_count": 10,
   "metadata": {},
   "outputs": [],
   "source": [
    "rdd_pagelinks_map = rdd_pagelinks.map(lambda x: (x[1],x[0]))"
   ]
  },
  {
   "cell_type": "code",
   "execution_count": 11,
   "metadata": {},
   "outputs": [
    {
     "data": {
      "text/plain": [
       "[('Milestones', 6010413),\n",
       " ('Casete', 633667),\n",
       " ('Altitud', 4559745),\n",
       " ('Camboya', 6912186),\n",
       " ('1942', 73859),\n",
       " ('Vandalismo', 7945035),\n",
       " ('CEST', 3015353),\n",
       " ('Wikidata', 7769862),\n",
       " ('Bienvenidos', 8577382),\n",
       " ('1990', 3181298)]"
      ]
     },
     "execution_count": 11,
     "metadata": {},
     "output_type": "execute_result"
    }
   ],
   "source": [
    "rdd_pagelinks_map.take(10)"
   ]
  },
  {
   "cell_type": "code",
   "execution_count": 12,
   "metadata": {},
   "outputs": [
    {
     "data": {
      "text/plain": [
       "1028647"
      ]
     },
     "execution_count": 12,
     "metadata": {},
     "output_type": "execute_result"
    }
   ],
   "source": [
    "rdd_pagelinks_map.count()"
   ]
  },
  {
   "cell_type": "code",
   "execution_count": 13,
   "metadata": {},
   "outputs": [
    {
     "data": {
      "text/plain": [
       "413216"
      ]
     },
     "execution_count": 13,
     "metadata": {},
     "output_type": "execute_result"
    }
   ],
   "source": [
    "rdd_contents_map.count()"
   ]
  },
  {
   "cell_type": "markdown",
   "metadata": {},
   "source": [
    "Hago el join de ambos RDD"
   ]
  },
  {
   "cell_type": "code",
   "execution_count": 14,
   "metadata": {},
   "outputs": [],
   "source": [
    "rdd_join = rdd_pagelinks_map.join(rdd_contents_map)"
   ]
  },
  {
   "cell_type": "markdown",
   "metadata": {},
   "source": [
    "Ahora hago un map para que me quede con la forma de un grafo como se menciono en una repuesta a consultas en el Slack, Vertice de salida y vertice de llegada. Hago un take para verificar que me haya quedado correctamente. "
   ]
  },
  {
   "cell_type": "code",
   "execution_count": 15,
   "metadata": {},
   "outputs": [],
   "source": [
    "rdd_join_map = rdd_join.map(lambda x: (x[1][0],x[1][1]))"
   ]
  },
  {
   "cell_type": "code",
   "execution_count": 16,
   "metadata": {},
   "outputs": [
    {
     "data": {
      "text/plain": [
       "[(1362458, 1274948)]"
      ]
     },
     "execution_count": 16,
     "metadata": {},
     "output_type": "execute_result"
    }
   ],
   "source": [
    "rdd_join_map.take(1)"
   ]
  },
  {
   "cell_type": "markdown",
   "metadata": {},
   "source": [
    "Creo la nueva funcion que busca a los vecinos que están a distancia 1 del id elegido como indicaron en el Slack:"
   ]
  },
  {
   "cell_type": "code",
   "execution_count": 17,
   "metadata": {},
   "outputs": [],
   "source": [
    "def busca_vecinos(rdd, id_from):\n",
    "    rdd_devuelto = rdd.filter(lambda x: x[0] == id_from)\n",
    "    return rdd_devuelto.collect()"
   ]
  },
  {
   "cell_type": "markdown",
   "metadata": {},
   "source": [
    "Realizo algunos ejemplos para verificar el correcto funcionamiento y que el output sea igual al que sugirieron en SLACK"
   ]
  },
  {
   "cell_type": "code",
   "execution_count": 23,
   "metadata": {},
   "outputs": [
    {
     "data": {
      "text/plain": [
       "[(1362458, 1274948)]"
      ]
     },
     "execution_count": 23,
     "metadata": {},
     "output_type": "execute_result"
    }
   ],
   "source": [
    "busca_vecinos(rdd_join_map,1362458)"
   ]
  },
  {
   "cell_type": "code",
   "execution_count": 33,
   "metadata": {},
   "outputs": [
    {
     "data": {
      "text/plain": [
       "[(2587499, 268308),\n",
       " (2587499, 369661),\n",
       " (2587499, 2211582),\n",
       " (2587499, 2248571),\n",
       " (2587499, 2130270),\n",
       " (2587499, 787207),\n",
       " (2587499, 1060256),\n",
       " (2587499, 1518682),\n",
       " (2587499, 189430),\n",
       " (2587499, 1028906),\n",
       " (2587499, 1228553),\n",
       " (2587499, 4595460),\n",
       " (2587499, 95969),\n",
       " (2587499, 16381),\n",
       " (2587499, 1386724),\n",
       " (2587499, 3631175),\n",
       " (2587499, 1064067),\n",
       " (2587499, 3068581),\n",
       " (2587499, 1529466),\n",
       " (2587499, 183847),\n",
       " (2587499, 420360),\n",
       " (2587499, 753181),\n",
       " (2587499, 1274548),\n",
       " (2587499, 5755276),\n",
       " (2587499, 36152),\n",
       " (2587499, 78624),\n",
       " (2587499, 469880),\n",
       " (2587499, 1721512),\n",
       " (2587499, 1931334),\n",
       " (2587499, 692724),\n",
       " (2587499, 751442),\n",
       " (2587499, 2724695),\n",
       " (2587499, 2536612),\n",
       " (2587499, 3280920),\n",
       " (2587499, 2311900),\n",
       " (2587499, 901970),\n",
       " (2587499, 2886537),\n",
       " (2587499, 645197),\n",
       " (2587499, 2852645),\n",
       " (2587499, 2064624),\n",
       " (2587499, 364335),\n",
       " (2587499, 1193716)]"
      ]
     },
     "execution_count": 33,
     "metadata": {},
     "output_type": "execute_result"
    }
   ],
   "source": [
    "busca_vecinos(rdd_join_map,2587499)"
   ]
  },
  {
   "cell_type": "code",
   "execution_count": null,
   "metadata": {},
   "outputs": [],
   "source": []
  },
  {
   "cell_type": "code",
   "execution_count": null,
   "metadata": {},
   "outputs": [],
   "source": []
  }
 ],
 "metadata": {
  "kernelspec": {
   "display_name": "Python 3",
   "language": "python",
   "name": "python3"
  },
  "language_info": {
   "codemirror_mode": {
    "name": "ipython",
    "version": 3
   },
   "file_extension": ".py",
   "mimetype": "text/x-python",
   "name": "python",
   "nbconvert_exporter": "python",
   "pygments_lexer": "ipython3",
   "version": "3.7.6"
  }
 },
 "nbformat": 4,
 "nbformat_minor": 4
}
